{
 "cells": [
  {
   "cell_type": "markdown",
   "metadata": {},
   "source": [
    "# Classification\n"
   ]
  },
  {
   "cell_type": "markdown",
   "metadata": {},
   "source": [
    "## Homework for Classification\n"
   ]
  },
  {
   "cell_type": "markdown",
   "metadata": {},
   "source": [
    "## Nota Bene -- Most (99.99%) of the work comes directly from relevant lesson refreshers, solved instructor and solved student activities, cited websites in text (including https://stackoverflow.com/questions/48865972/sorting-a-zipped-list-in-a-for-loop and https://stackoverflow.com/questions/36622977/sorting-one-list-based-on-the-results-of-python-in-descending-order), and direct help from Instructor GS, Instructor AN, Instructor KS, and Tutor, Ms. LT. Also, because of difficulties in working with sampling techniques, qualifiers for functions were standardized in departure from the answer keys."
   ]
  },
  {
   "cell_type": "markdown",
   "metadata": {},
   "source": [
    "# General Introduction\n",
    "\n",
    "This readme file is divided into three (3) main sections: 1) Resampling, 2) Ensemble, 3) General Conclusion. The Resampling section covers oversampling (including naive random oversampling and Synthetic Minority Over Sampling (SMOTE) technique), undersampling (mainly use of cluster centroids), and combination (over and under sampling) featuring SMOTE and Edited Nearest Neighbors (SMOTTEENN) sampling techniques. In terms of the Ensemble section, the Ensemble section covers ensemble learning with a balanced random forest classifier and ensemble learning with an easy ensemble classifier. The General Conclusion aims to answer the green questions in the homework assignment readme file.\n"
   ]
  },
  {
   "cell_type": "markdown",
   "metadata": {},
   "source": [
    "# Resampling\n",
    "\n",
    "For the Resampling section, a process was followed. The data was read from a comma separated value (CSV) file and cleaned. Also, the data was split into training and testing. The data was was pre-processed. Then the data was placed through resampling methods. The resampling included oversampling (including naive random oversampling and Synthetic Minority Over Sampling (SMOTE) technique), undersampling (mainly use of cluster centroids), and combination (over and under sampling) featuring SMOTE and Edited Nearest Neighbors (SMOTTEENN) sampling techniques."
   ]
  },
  {
   "cell_type": "markdown",
   "metadata": {},
   "source": [
    "## Naive Random Oversampling\n",
    "\n",
    "It is stated that the main point of naive random oversampling is to \"generate enough data from the minority\" (https://medium.com/airy-science/towards-advanced-accommodation-photos-classification-part-1-a64b542b31ed). This methodology has several applications (https://dho.stanford.edu/wp-content/uploads/CAFO_SI.pdf). The Naive Random Oversampling analysis was conducted with the RandomOverSampler package from the imblearn.over_sampling Python module. \n",
    "\n",
    "In terms of the counter, the results were \"Counter({'low_risk': 51366, 'high_risk': 51366}).\" "
   ]
  },
  {
   "cell_type": "markdown",
   "metadata": {},
   "source": [
    "The confusion matrix is provided below in the cell."
   ]
  },
  {
   "cell_type": "code",
   "execution_count": 23,
   "metadata": {},
   "outputs": [
    {
     "data": {
      "text/plain": [
       "array([[   83,    18],\n",
       "       [ 2689, 14415]], dtype=int64)"
      ]
     },
     "execution_count": 23,
     "metadata": {},
     "output_type": "execute_result"
    }
   ],
   "source": []
  },
  {
   "cell_type": "markdown",
   "metadata": {},
   "source": [
    "The balanced accuracy score is provided below in the cell."
   ]
  },
  {
   "cell_type": "code",
   "execution_count": 22,
   "metadata": {},
   "outputs": [
    {
     "data": {
      "text/plain": [
       "0.8322837457974048"
      ]
     },
     "execution_count": 22,
     "metadata": {},
     "output_type": "execute_result"
    }
   ],
   "source": []
  },
  {
   "cell_type": "markdown",
   "metadata": {},
   "source": [
    "The confusion matrix is provided below in the cell."
   ]
  },
  {
   "cell_type": "code",
   "execution_count": 23,
   "metadata": {},
   "outputs": [
    {
     "data": {
      "text/plain": [
       "array([[   83,    18],\n",
       "       [ 2689, 14415]], dtype=int64)"
      ]
     },
     "execution_count": 23,
     "metadata": {},
     "output_type": "execute_result"
    }
   ],
   "source": []
  },
  {
   "cell_type": "markdown",
   "metadata": {},
   "source": [
    "The imbalanced classification report is provided below in the cell."
   ]
  },
  {
   "cell_type": "code",
   "execution_count": 24,
   "metadata": {},
   "outputs": [
    {
     "name": "stdout",
     "output_type": "stream",
     "text": [
      "                   pre       rec       spe        f1       geo       iba       sup\n",
      "\n",
      "  high_risk       0.03      0.82      0.84      0.06      0.83      0.69       101\n",
      "   low_risk       1.00      0.84      0.82      0.91      0.83      0.69     17104\n",
      "\n",
      "avg / total       0.99      0.84      0.82      0.91      0.83      0.69     17205\n",
      "\n"
     ]
    }
   ],
   "source": []
  },
  {
   "cell_type": "code",
   "execution_count": null,
   "metadata": {},
   "outputs": [],
   "source": []
  },
  {
   "cell_type": "markdown",
   "metadata": {},
   "source": [
    "## SMOTE Oversampling\n",
    "\n",
    "It is stated that SMOTE oversampling is supposed to avoid \"the generation of noise\" and is supposed to overcome \"imbalances between and within classes\" (http://arxiv-export-lb.library.cornell.edu/pdf/1711.00837). The SMOTE package was imported. Also, this SMOTE package was imported from the imblearn.over_sampling Python module.\n"
   ]
  },
  {
   "cell_type": "markdown",
   "metadata": {},
   "source": [
    "The counter is provided below in the cell."
   ]
  },
  {
   "cell_type": "code",
   "execution_count": 25,
   "metadata": {},
   "outputs": [
    {
     "data": {
      "text/plain": [
       "Counter({'low_risk': 51366, 'high_risk': 51366})"
      ]
     },
     "execution_count": 25,
     "metadata": {},
     "output_type": "execute_result"
    }
   ],
   "source": []
  },
  {
   "cell_type": "markdown",
   "metadata": {},
   "source": [
    "The balanced accuracy score is provided below in the cell."
   ]
  },
  {
   "cell_type": "code",
   "execution_count": 27,
   "metadata": {},
   "outputs": [
    {
     "data": {
      "text/plain": [
       "0.8388510243681058"
      ]
     },
     "execution_count": 27,
     "metadata": {},
     "output_type": "execute_result"
    }
   ],
   "source": []
  },
  {
   "cell_type": "markdown",
   "metadata": {},
   "source": [
    "The confusion matrix is provided below in the cell."
   ]
  },
  {
   "cell_type": "code",
   "execution_count": 28,
   "metadata": {},
   "outputs": [
    {
     "data": {
      "text/plain": [
       "array([[   82,    19],\n",
       "       [ 2295, 14809]], dtype=int64)"
      ]
     },
     "execution_count": 28,
     "metadata": {},
     "output_type": "execute_result"
    }
   ],
   "source": []
  },
  {
   "cell_type": "markdown",
   "metadata": {},
   "source": [
    "The imbalanced classification report is provided below in the cell."
   ]
  },
  {
   "cell_type": "code",
   "execution_count": 29,
   "metadata": {},
   "outputs": [
    {
     "name": "stdout",
     "output_type": "stream",
     "text": [
      "                   pre       rec       spe        f1       geo       iba       sup\n",
      "\n",
      "  high_risk       0.03      0.81      0.87      0.07      0.84      0.70       101\n",
      "   low_risk       1.00      0.87      0.81      0.93      0.84      0.71     17104\n",
      "\n",
      "avg / total       0.99      0.87      0.81      0.92      0.84      0.71     17205\n",
      "\n"
     ]
    }
   ],
   "source": []
  },
  {
   "cell_type": "markdown",
   "metadata": {},
   "source": [
    "## Undersampling\n",
    "\n",
    "There are several approaches for undersampling (http://citeseerx.ist.psu.edu/viewdoc/download;jsessionid=2DB83AD7E8F48219AE338927F17A0BD1?doi=10.1.1.120.4962&rep=rep1&type=pdf). The ClusterCentroids package was imported. Also, this package was imported from the imblearn.under_sampling Python module.\n"
   ]
  },
  {
   "cell_type": "markdown",
   "metadata": {},
   "source": [
    "The counter is provided below in the cell."
   ]
  },
  {
   "cell_type": "code",
   "execution_count": 30,
   "metadata": {},
   "outputs": [
    {
     "data": {
      "text/plain": [
       "Counter({'high_risk': 246, 'low_risk': 246})"
      ]
     },
     "execution_count": 30,
     "metadata": {},
     "output_type": "execute_result"
    }
   ],
   "source": []
  },
  {
   "cell_type": "markdown",
   "metadata": {},
   "source": [
    "The balanced accuracy score is provided below in the cell."
   ]
  },
  {
   "cell_type": "code",
   "execution_count": 32,
   "metadata": {},
   "outputs": [
    {
     "data": {
      "text/plain": [
       "0.8215575767118339"
      ]
     },
     "execution_count": 32,
     "metadata": {},
     "output_type": "execute_result"
    }
   ],
   "source": []
  },
  {
   "cell_type": "markdown",
   "metadata": {},
   "source": [
    "The confusion matrix is provided below in the cell."
   ]
  },
  {
   "cell_type": "code",
   "execution_count": 33,
   "metadata": {},
   "outputs": [
    {
     "data": {
      "text/plain": [
       "array([[   89,    12],\n",
       "       [ 4072, 13032]], dtype=int64)"
      ]
     },
     "execution_count": 33,
     "metadata": {},
     "output_type": "execute_result"
    }
   ],
   "source": []
  },
  {
   "cell_type": "markdown",
   "metadata": {},
   "source": [
    "The imbalanced classification report is provided below in the cell."
   ]
  },
  {
   "cell_type": "code",
   "execution_count": 34,
   "metadata": {},
   "outputs": [
    {
     "name": "stdout",
     "output_type": "stream",
     "text": [
      "                   pre       rec       spe        f1       geo       iba       sup\n",
      "\n",
      "  high_risk       0.03      0.82      0.84      0.06      0.83      0.69       101\n",
      "   low_risk       1.00      0.84      0.82      0.91      0.83      0.69     17104\n",
      "\n",
      "avg / total       0.99      0.84      0.82      0.91      0.83      0.69     17205\n",
      "\n",
      "                   pre       rec       spe        f1       geo       iba       sup\n",
      "\n",
      "  high_risk       0.02      0.88      0.76      0.04      0.82      0.68       101\n",
      "   low_risk       1.00      0.76      0.88      0.86      0.82      0.66     17104\n",
      "\n",
      "avg / total       0.99      0.76      0.88      0.86      0.82      0.66     17205\n",
      "\n"
     ]
    }
   ],
   "source": []
  },
  {
   "cell_type": "markdown",
   "metadata": {},
   "source": [
    "## Combination (Over and Under) Sampling\n",
    "\n",
    "Sometimes, combination sampling methodologies are needed, like SMOTTEENN (https://opus.lib.uts.edu.au/handle/10453/140935). The SMOTTEEN package was imported for this segment. Also, this package was imported from the imblearn.under_sampling Python module.\n"
   ]
  },
  {
   "cell_type": "markdown",
   "metadata": {},
   "source": [
    "The counter is provided below in the cell."
   ]
  },
  {
   "cell_type": "code",
   "execution_count": 35,
   "metadata": {},
   "outputs": [
    {
     "data": {
      "text/plain": [
       "Counter({'loan_status': 1})"
      ]
     },
     "execution_count": 35,
     "metadata": {},
     "output_type": "execute_result"
    }
   ],
   "source": []
  },
  {
   "cell_type": "markdown",
   "metadata": {},
   "source": [
    "The balanced accuracy score is provided below in the cell."
   ]
  },
  {
   "cell_type": "code",
   "execution_count": 37,
   "metadata": {},
   "outputs": [
    {
     "data": {
      "text/plain": [
       "0.8322837457974048"
      ]
     },
     "execution_count": 37,
     "metadata": {},
     "output_type": "execute_result"
    }
   ],
   "source": []
  },
  {
   "cell_type": "markdown",
   "metadata": {},
   "source": [
    "The confusion matrix is provided below in the cell."
   ]
  },
  {
   "cell_type": "code",
   "execution_count": 39,
   "metadata": {},
   "outputs": [
    {
     "data": {
      "text/plain": [
       "array([[   83,    18],\n",
       "       [ 2465, 14639]], dtype=int64)"
      ]
     },
     "execution_count": 39,
     "metadata": {},
     "output_type": "execute_result"
    }
   ],
   "source": []
  },
  {
   "cell_type": "markdown",
   "metadata": {},
   "source": [
    "The imbalanced classification report is provided below in the cell."
   ]
  },
  {
   "cell_type": "code",
   "execution_count": 40,
   "metadata": {},
   "outputs": [
    {
     "name": "stdout",
     "output_type": "stream",
     "text": [
      "                   pre       rec       spe        f1       geo       iba       sup\n",
      "\n",
      "  high_risk       0.03      0.82      0.86      0.06      0.84      0.70       101\n",
      "   low_risk       1.00      0.86      0.82      0.92      0.84      0.71     17104\n",
      "\n",
      "avg / total       0.99      0.86      0.82      0.92      0.84      0.71     17205\n",
      "\n"
     ]
    }
   ],
   "source": []
  },
  {
   "cell_type": "code",
   "execution_count": null,
   "metadata": {},
   "outputs": [],
   "source": []
  },
  {
   "cell_type": "markdown",
   "metadata": {},
   "source": [
    "# Ensemble\n",
    "\n",
    "For the Ensemble section, a process was followed. The data was read from a comma separated value (CSV) file and cleaned. Also, the data was split into training and testing. The data was was pre-processed. Then the data was placed through ensemble learning methods. These methods included use of a balanced random forest classifier and also an easy ensemble classifier."
   ]
  },
  {
   "cell_type": "markdown",
   "metadata": {},
   "source": [
    "## Balanced Random Forest Classifier\n",
    "\n",
    "It is stated that the use of a balanced random forest classifier helps in \"practical classification problems\" (https://statistics.berkeley.edu/sites/default/files/tech-reports/666.pdf). The BalancedRandomForestClassifier package was used. Also, the Python module was imblearn.ensemble.\n"
   ]
  },
  {
   "cell_type": "markdown",
   "metadata": {},
   "source": [
    "The balanced accuracy score is given below in the cell."
   ]
  },
  {
   "cell_type": "code",
   "execution_count": 22,
   "metadata": {},
   "outputs": [
    {
     "data": {
      "text/plain": [
       "0.7790765474505779"
      ]
     },
     "execution_count": 22,
     "metadata": {},
     "output_type": "execute_result"
    }
   ],
   "source": []
  },
  {
   "cell_type": "markdown",
   "metadata": {},
   "source": [
    "The confusion matrix is given below in the cell."
   ]
  },
  {
   "cell_type": "code",
   "execution_count": 23,
   "metadata": {},
   "outputs": [
    {
     "data": {
      "text/plain": [
       "array([[   62,    30],\n",
       "       [ 1981, 15132]], dtype=int64)"
      ]
     },
     "execution_count": 23,
     "metadata": {},
     "output_type": "execute_result"
    }
   ],
   "source": []
  },
  {
   "cell_type": "markdown",
   "metadata": {},
   "source": [
    "The imbalanced classification report is given below in the cell."
   ]
  },
  {
   "cell_type": "code",
   "execution_count": 24,
   "metadata": {},
   "outputs": [
    {
     "name": "stdout",
     "output_type": "stream",
     "text": [
      "                   pre       rec       spe        f1       geo       iba       sup\n",
      "\n",
      "  high_risk       0.03      0.67      0.88      0.06      0.77      0.58        92\n",
      "   low_risk       1.00      0.88      0.67      0.94      0.77      0.61     17113\n",
      "\n",
      "avg / total       0.99      0.88      0.68      0.93      0.77      0.61     17205\n",
      "\n"
     ]
    }
   ],
   "source": []
  },
  {
   "cell_type": "markdown",
   "metadata": {},
   "source": [
    "The most important features are sorted in descending order."
   ]
  },
  {
   "cell_type": "code",
   "execution_count": 26,
   "metadata": {},
   "outputs": [
    {
     "data": {
      "text/plain": [
       "[(0.08232559188092942, 'initial_list_status'),\n",
       " (0.07514935891577482, 'total_acc'),\n",
       " (0.05295780612873343, 'out_prncp'),\n",
       " (0.05172193147881896, 'total_rec_prncp'),\n",
       " (0.050666329293744046, 'revol_bal'),\n",
       " (0.03180336578184677, 'int_rate'),\n",
       " (0.02875447041125705, 'debt_settlement_flag'),\n",
       " (0.019698414607869152, 'acc_open_past_24mths'),\n",
       " (0.01785095742507862, 'annual_inc'),\n",
       " (0.016491603787959136, 'open_il_12m'),\n",
       " (0.01582624735925119, 'delinq_2yrs'),\n",
       " (0.014814688214490035, 'max_bal_bc'),\n",
       " (0.014568061942319082, 'mths_since_rcnt_il'),\n",
       " (0.014059504036431206, 'delinq_amnt'),\n",
       " (0.01401471133549523, 'num_tl_op_past_12m'),\n",
       " (0.013877798057673172, 'tot_coll_amt'),\n",
       " (0.013859222062267466, 'pub_rec'),\n",
       " (0.013598791397331165, 'total_rev_hi_lim'),\n",
       " (0.013429179784553854, 'acc_now_delinq'),\n",
       " (0.013423121714586898, 'inq_last_12m'),\n",
       " (0.013329292052855997, 'num_tl_30dpd'),\n",
       " (0.013119605427149511, 'installment'),\n",
       " (0.01310297280889863, 'home_ownership'),\n",
       " (0.012774095186915899, 'pct_tl_nvr_dlq'),\n",
       " (0.012708146158676319, 'all_util'),\n",
       " (0.012670087415701478, 'open_acc'),\n",
       " (0.012648164928005697, 'last_pymnt_amnt'),\n",
       " (0.012296088404085977, 'chargeoff_within_12_mths'),\n",
       " (0.012150432484556913, 'loan_amnt'),\n",
       " (0.011753135989935291, 'open_il_24m')]"
      ]
     },
     "execution_count": 26,
     "metadata": {},
     "output_type": "execute_result"
    }
   ],
   "source": []
  },
  {
   "cell_type": "markdown",
   "metadata": {},
   "source": [
    "## Easy Ensemble Classifier\n",
    "\n",
    "It is stated that the use of a easy ensemble classifier helps to \"minimize the error rate\" (https://www.academia.edu/39220881/Analysis_of_Imbalanced_Classification_Algorithms_A_Perspective_View). For the easy ensemble classifier, the EasyEnsembleClassifier package was used. Also, the Python module was imblearn.ensemble.\n"
   ]
  },
  {
   "cell_type": "markdown",
   "metadata": {},
   "source": [
    "The balanced accuracy score is given below in the cell."
   ]
  },
  {
   "cell_type": "code",
   "execution_count": 29,
   "metadata": {},
   "outputs": [
    {
     "data": {
      "text/plain": [
       "0.9293497315796027"
      ]
     },
     "execution_count": 29,
     "metadata": {},
     "output_type": "execute_result"
    }
   ],
   "source": []
  },
  {
   "cell_type": "markdown",
   "metadata": {},
   "source": [
    "The confusion matrix is given below in the cell."
   ]
  },
  {
   "cell_type": "code",
   "execution_count": 30,
   "metadata": {},
   "outputs": [
    {
     "data": {
      "text/plain": [
       "array([[   85,     7],\n",
       "       [ 1116, 15997]], dtype=int64)"
      ]
     },
     "execution_count": 30,
     "metadata": {},
     "output_type": "execute_result"
    }
   ],
   "source": []
  },
  {
   "cell_type": "markdown",
   "metadata": {},
   "source": [
    "The imbalanced classification report is given below in the cell."
   ]
  },
  {
   "cell_type": "code",
   "execution_count": 31,
   "metadata": {},
   "outputs": [
    {
     "name": "stdout",
     "output_type": "stream",
     "text": [
      "                   pre       rec       spe        f1       geo       iba       sup\n",
      "\n",
      "  high_risk       0.07      0.92      0.93      0.13      0.93      0.86        92\n",
      "   low_risk       1.00      0.93      0.92      0.97      0.93      0.86     17113\n",
      "\n",
      "avg / total       0.99      0.93      0.92      0.96      0.93      0.86     17205\n",
      "\n"
     ]
    }
   ],
   "source": []
  },
  {
   "cell_type": "markdown",
   "metadata": {},
   "source": [
    "# General Conclusions\n",
    "\n"
   ]
  },
  {
   "cell_type": "markdown",
   "metadata": {},
   "source": [
    "## Resampling\n",
    "\n",
    "> Which model had the best balanced accuracy score?\n",
    ">\n",
    "> Which model had the best recall score?\n",
    ">\n",
    "> Which model had the best geometric mean score?"
   ]
  },
  {
   "cell_type": "markdown",
   "metadata": {},
   "source": [
    "In the Resampling section, SMOTE Oversampling had the highest balanced accuracy score of 0.8388510243681058."
   ]
  },
  {
   "cell_type": "markdown",
   "metadata": {},
   "source": [
    "SMOTE Oversampling gave the best recall score in the Resampling section, with a recall score of 0.87."
   ]
  },
  {
   "cell_type": "markdown",
   "metadata": {},
   "source": [
    "In the Resampling section, both SMOTE and SMOTTEENN gave the highest geometric mean score of 0.84."
   ]
  },
  {
   "cell_type": "markdown",
   "metadata": {},
   "source": [
    "## Ensemble\n",
    "\n",
    "> Which model had the best balanced accuracy score?\n",
    ">\n",
    "> Which model had the best recall score?\n",
    ">\n",
    "> Which model had the best geometric mean score?\n",
    ">\n",
    "> What are the top three features?"
   ]
  },
  {
   "cell_type": "code",
   "execution_count": null,
   "metadata": {},
   "outputs": [],
   "source": []
  }
 ],
 "metadata": {
  "kernelspec": {
   "display_name": "Python 3",
   "language": "python",
   "name": "python3"
  },
  "language_info": {
   "codemirror_mode": {
    "name": "ipython",
    "version": 3
   },
   "file_extension": ".py",
   "mimetype": "text/x-python",
   "name": "python",
   "nbconvert_exporter": "python",
   "pygments_lexer": "ipython3",
   "version": "3.7.8"
  }
 },
 "nbformat": 4,
 "nbformat_minor": 4
}
