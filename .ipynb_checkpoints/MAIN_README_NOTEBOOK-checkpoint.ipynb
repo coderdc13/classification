{
 "cells": [
  {
   "cell_type": "markdown",
   "metadata": {},
   "source": [
    "# Classification\n"
   ]
  },
  {
   "cell_type": "markdown",
   "metadata": {},
   "source": [
    "## Homework for Classification\n"
   ]
  },
  {
   "cell_type": "markdown",
   "metadata": {},
   "source": [
    "## Nota Bene -- Most (99.99%) of the work comes directly from relevant lesson refreshers, solved instructor and solved student activities, cited websites in text (including https://stackoverflow.com/questions/48865972/sorting-a-zipped-list-in-a-for-loop and https://stackoverflow.com/questions/36622977/sorting-one-list-based-on-the-results-of-python-in-descending-order), and direct help from Instructor GS, Instructor AN, Instructor KS, and Tutor, Ms. LT. Also, because of difficulties in working with sampling techniques, qualifiers for functions were standardized in departure from the answer keys."
   ]
  },
  {
   "cell_type": "markdown",
   "metadata": {},
   "source": [
    "# General Introduction\n",
    "\n",
    "This readme file is divided into three (3) main sections: 1) Resampling, 2) Ensemble, 3) General Conclusion. The Resampling section covers oversampling (including naive random oversampling and Synthetic Minority Over Sampling (SMOTE) technique), undersampling (mainly use of cluster centroids), and combination (over and under sampling) featuring SMOTE and Edited Nearest Neighbors (SMOTTEENN) sampling techniques. In terms of the Ensemble section, the Ensemble section covers ensemble learning with a balanced random forest classifier and ensemble learning with an easy ensemble classifier. The General Conclusion aims to answer the green questions in the homework assignment readme file.\n"
   ]
  },
  {
   "cell_type": "markdown",
   "metadata": {},
   "source": [
    "# Resampling\n",
    "\n",
    "For the Resampling section, a process was followed. The data was read from a comma separated value (CSV) file and cleaned. Also, the data was split into training and testing. The data was was pre-processed. Then the data was placed through resampling methods. The resampling included oversampling (including naive random oversampling and Synthetic Minority Over Sampling (SMOTE) technique), undersampling (mainly use of cluster centroids), and combination (over and under sampling) featuring SMOTE and Edited Nearest Neighbors (SMOTTEENN) sampling techniques."
   ]
  },
  {
   "cell_type": "markdown",
   "metadata": {},
   "source": [
    "## Naive Random Oversampling\n",
    "\n",
    "It is stated that the main point of naive random oversampling is to \"generate enough data from the minority\" (https://medium.com/airy-science/towards-advanced-accommodation-photos-classification-part-1-a64b542b31ed). This methodology has several applications (https://dho.stanford.edu/wp-content/uploads/CAFO_SI.pdf). The Naive Random Oversampling analysis was conducted with the RandomOverSampler package from the imblearn.over_sampling Python module. \n",
    "\n",
    "In terms of the counter, the results were \"Counter({'low_risk': 51366, 'high_risk': 51366}).\" "
   ]
  },
  {
   "cell_type": "markdown",
   "metadata": {},
   "source": [
    "The confusion matrix is provided below in the cell."
   ]
  },
  {
   "cell_type": "code",
   "execution_count": 23,
   "metadata": {},
   "outputs": [
    {
     "data": {
      "text/plain": [
       "array([[   83,    18],\n",
       "       [ 2689, 14415]], dtype=int64)"
      ]
     },
     "execution_count": 23,
     "metadata": {},
     "output_type": "execute_result"
    }
   ],
   "source": []
  },
  {
   "cell_type": "markdown",
   "metadata": {},
   "source": [
    "The balanced accuracy score is provided below in the cell."
   ]
  },
  {
   "cell_type": "code",
   "execution_count": 22,
   "metadata": {},
   "outputs": [
    {
     "data": {
      "text/plain": [
       "0.8322837457974048"
      ]
     },
     "execution_count": 22,
     "metadata": {},
     "output_type": "execute_result"
    }
   ],
   "source": []
  },
  {
   "cell_type": "markdown",
   "metadata": {},
   "source": [
    "The confusion matrix is provided below in the cell."
   ]
  },
  {
   "cell_type": "code",
   "execution_count": 23,
   "metadata": {},
   "outputs": [
    {
     "data": {
      "text/plain": [
       "array([[   83,    18],\n",
       "       [ 2689, 14415]], dtype=int64)"
      ]
     },
     "execution_count": 23,
     "metadata": {},
     "output_type": "execute_result"
    }
   ],
   "source": []
  },
  {
   "cell_type": "markdown",
   "metadata": {},
   "source": [
    "The imbalanced classification report is provided below in the cell."
   ]
  },
  {
   "cell_type": "code",
   "execution_count": 24,
   "metadata": {},
   "outputs": [
    {
     "name": "stdout",
     "output_type": "stream",
     "text": [
      "                   pre       rec       spe        f1       geo       iba       sup\n",
      "\n",
      "  high_risk       0.03      0.82      0.84      0.06      0.83      0.69       101\n",
      "   low_risk       1.00      0.84      0.82      0.91      0.83      0.69     17104\n",
      "\n",
      "avg / total       0.99      0.84      0.82      0.91      0.83      0.69     17205\n",
      "\n"
     ]
    }
   ],
   "source": []
  },
  {
   "cell_type": "code",
   "execution_count": null,
   "metadata": {},
   "outputs": [],
   "source": []
  },
  {
   "cell_type": "markdown",
   "metadata": {},
   "source": [
    "## SMOTE Oversampling\n",
    "\n",
    "It is stated that SMOTE oversampling is supposed to avoid \"the generation of noise\" and is supposed to overcome \"imbalances between and within classes\" (http://arxiv-export-lb.library.cornell.edu/pdf/1711.00837). \n"
   ]
  },
  {
   "cell_type": "code",
   "execution_count": null,
   "metadata": {},
   "outputs": [],
   "source": []
  }
 ],
 "metadata": {
  "kernelspec": {
   "display_name": "Python 3",
   "language": "python",
   "name": "python3"
  },
  "language_info": {
   "codemirror_mode": {
    "name": "ipython",
    "version": 3
   },
   "file_extension": ".py",
   "mimetype": "text/x-python",
   "name": "python",
   "nbconvert_exporter": "python",
   "pygments_lexer": "ipython3",
   "version": "3.7.8"
  }
 },
 "nbformat": 4,
 "nbformat_minor": 4
}
